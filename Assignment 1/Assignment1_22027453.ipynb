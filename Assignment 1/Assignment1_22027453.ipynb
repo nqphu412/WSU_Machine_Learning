{
 "cells": [
  {
   "cell_type": "markdown",
   "metadata": {},
   "source": [
    "# Task 1"
   ]
  },
  {
   "cell_type": "markdown",
   "metadata": {},
   "source": [
    "## Question 1: Dataset Description"
   ]
  },
  {
   "cell_type": "code",
   "execution_count": 4,
   "metadata": {},
   "outputs": [],
   "source": [
    "import pandas as pd\n",
    "import numpy as np\n",
    "import matplotlib.pyplot as plt\n",
    "from sklearn.preprocessing import PolynomialFeatures\n",
    "from sklearn.linear_model import LinearRegression\n",
    "from sklearn.model_selection import cross_val_score"
   ]
  },
  {
   "cell_type": "code",
   "execution_count": 5,
   "metadata": {},
   "outputs": [
    {
     "data": {
      "text/html": [
       "<div>\n",
       "<style scoped>\n",
       "    .dataframe tbody tr th:only-of-type {\n",
       "        vertical-align: middle;\n",
       "    }\n",
       "\n",
       "    .dataframe tbody tr th {\n",
       "        vertical-align: top;\n",
       "    }\n",
       "\n",
       "    .dataframe thead th {\n",
       "        text-align: right;\n",
       "    }\n",
       "</style>\n",
       "<table border=\"1\" class=\"dataframe\">\n",
       "  <thead>\n",
       "    <tr style=\"text-align: right;\">\n",
       "      <th></th>\n",
       "      <th>ID-NUMBER</th>\n",
       "      <th>AGE</th>\n",
       "      <th>ED-LEVEL</th>\n",
       "      <th>SMOKING STATUS</th>\n",
       "      <th>EXERCISE</th>\n",
       "      <th>WEIGHT</th>\n",
       "      <th>SERUM-CHOL</th>\n",
       "      <th>SYSTOLIC</th>\n",
       "      <th>IQ</th>\n",
       "      <th>SODIUM</th>\n",
       "      <th>GENDER</th>\n",
       "      <th>MARITAL-STATUS</th>\n",
       "      <th>NAME</th>\n",
       "    </tr>\n",
       "  </thead>\n",
       "  <tbody>\n",
       "    <tr>\n",
       "      <th>0</th>\n",
       "      <td>1</td>\n",
       "      <td>27</td>\n",
       "      <td>2</td>\n",
       "      <td>1</td>\n",
       "      <td>1</td>\n",
       "      <td>120</td>\n",
       "      <td>193</td>\n",
       "      <td>126</td>\n",
       "      <td>118</td>\n",
       "      <td>136</td>\n",
       "      <td>F</td>\n",
       "      <td>M</td>\n",
       "      <td>Braund, Mr. Owen Harris</td>\n",
       "    </tr>\n",
       "    <tr>\n",
       "      <th>1</th>\n",
       "      <td>2</td>\n",
       "      <td>18</td>\n",
       "      <td>1</td>\n",
       "      <td>0</td>\n",
       "      <td>1</td>\n",
       "      <td>145</td>\n",
       "      <td>210</td>\n",
       "      <td>120</td>\n",
       "      <td>105</td>\n",
       "      <td>137</td>\n",
       "      <td>M</td>\n",
       "      <td>S</td>\n",
       "      <td>Cumings, Mrs. John Bradley (Florence Briggs Th...</td>\n",
       "    </tr>\n",
       "    <tr>\n",
       "      <th>2</th>\n",
       "      <td>3</td>\n",
       "      <td>32</td>\n",
       "      <td>2</td>\n",
       "      <td>0</td>\n",
       "      <td>0</td>\n",
       "      <td>118</td>\n",
       "      <td>196</td>\n",
       "      <td>128</td>\n",
       "      <td>115</td>\n",
       "      <td>135</td>\n",
       "      <td>F</td>\n",
       "      <td>M</td>\n",
       "      <td>Heikkinen, Miss. Laina</td>\n",
       "    </tr>\n",
       "    <tr>\n",
       "      <th>3</th>\n",
       "      <td>4</td>\n",
       "      <td>24</td>\n",
       "      <td>2</td>\n",
       "      <td>0</td>\n",
       "      <td>1</td>\n",
       "      <td>162</td>\n",
       "      <td>208</td>\n",
       "      <td>129</td>\n",
       "      <td>108</td>\n",
       "      <td>142</td>\n",
       "      <td>M</td>\n",
       "      <td>M</td>\n",
       "      <td>Futrelle, Mrs. Jacques Heath (Lily May Peel)</td>\n",
       "    </tr>\n",
       "    <tr>\n",
       "      <th>4</th>\n",
       "      <td>5</td>\n",
       "      <td>19</td>\n",
       "      <td>1</td>\n",
       "      <td>2</td>\n",
       "      <td>0</td>\n",
       "      <td>106</td>\n",
       "      <td>188</td>\n",
       "      <td>119</td>\n",
       "      <td>106</td>\n",
       "      <td>133</td>\n",
       "      <td>F</td>\n",
       "      <td>S</td>\n",
       "      <td>Allen, Mr. William Henry</td>\n",
       "    </tr>\n",
       "  </tbody>\n",
       "</table>\n",
       "</div>"
      ],
      "text/plain": [
       "   ID-NUMBER  AGE  ED-LEVEL  SMOKING STATUS  EXERCISE  WEIGHT  SERUM-CHOL  \\\n",
       "0          1   27         2               1         1     120         193   \n",
       "1          2   18         1               0         1     145         210   \n",
       "2          3   32         2               0         0     118         196   \n",
       "3          4   24         2               0         1     162         208   \n",
       "4          5   19         1               2         0     106         188   \n",
       "\n",
       "   SYSTOLIC   IQ  SODIUM GENDER MARITAL-STATUS  \\\n",
       "0       126  118     136      F              M   \n",
       "1       120  105     137      M              S   \n",
       "2       128  115     135      F              M   \n",
       "3       129  108     142      M              M   \n",
       "4       119  106     133      F              S   \n",
       "\n",
       "                                                NAME  \n",
       "0                            Braund, Mr. Owen Harris  \n",
       "1  Cumings, Mrs. John Bradley (Florence Briggs Th...  \n",
       "2                             Heikkinen, Miss. Laina  \n",
       "3       Futrelle, Mrs. Jacques Heath (Lily May Peel)  \n",
       "4                           Allen, Mr. William Henry  "
      ]
     },
     "execution_count": 5,
     "metadata": {},
     "output_type": "execute_result"
    }
   ],
   "source": [
    "# Loading the dataset and exploration\n",
    "df = pd.read_csv(\"bloodpressure.csv\")\n",
    "df.head() # Examine the first 6 observation of the data frame\n",
    "\n"
   ]
  },
  {
   "cell_type": "markdown",
   "metadata": {},
   "source": [
    "## Question 2: Polynomial Regression"
   ]
  },
  {
   "cell_type": "markdown",
   "metadata": {},
   "source": [
    "Create polynomial regression models using the whole dataset to predict SYSTOLIC pressure using the ”WEIGHT” feature, for polynomial degrees ranging from 1 to 14. \n",
    "\n",
    "Perform 10-fold cross-validation. \n",
    "\n",
    "Compute and display the mean RMSEs of the 10-fold cross-validation for each of the 14 polynomial degrees. \n",
    "\n",
    "Produce a cross-validation error plot showing the mean RMSE for polynomial degrees from 1 to 14."
   ]
  },
  {
   "cell_type": "code",
   "execution_count": 8,
   "metadata": {},
   "outputs": [
    {
     "data": {
      "text/html": [
       "<div>\n",
       "<style scoped>\n",
       "    .dataframe tbody tr th:only-of-type {\n",
       "        vertical-align: middle;\n",
       "    }\n",
       "\n",
       "    .dataframe tbody tr th {\n",
       "        vertical-align: top;\n",
       "    }\n",
       "\n",
       "    .dataframe thead th {\n",
       "        text-align: right;\n",
       "    }\n",
       "</style>\n",
       "<table border=\"1\" class=\"dataframe\">\n",
       "  <thead>\n",
       "    <tr style=\"text-align: right;\">\n",
       "      <th></th>\n",
       "      <th>SYSTOLIC</th>\n",
       "      <th>WEIGHT</th>\n",
       "    </tr>\n",
       "  </thead>\n",
       "  <tbody>\n",
       "    <tr>\n",
       "      <th>0</th>\n",
       "      <td>126</td>\n",
       "      <td>120</td>\n",
       "    </tr>\n",
       "    <tr>\n",
       "      <th>1</th>\n",
       "      <td>120</td>\n",
       "      <td>145</td>\n",
       "    </tr>\n",
       "    <tr>\n",
       "      <th>2</th>\n",
       "      <td>128</td>\n",
       "      <td>118</td>\n",
       "    </tr>\n",
       "    <tr>\n",
       "      <th>3</th>\n",
       "      <td>129</td>\n",
       "      <td>162</td>\n",
       "    </tr>\n",
       "    <tr>\n",
       "      <th>4</th>\n",
       "      <td>119</td>\n",
       "      <td>106</td>\n",
       "    </tr>\n",
       "    <tr>\n",
       "      <th>...</th>\n",
       "      <td>...</td>\n",
       "      <td>...</td>\n",
       "    </tr>\n",
       "    <tr>\n",
       "      <th>95</th>\n",
       "      <td>142</td>\n",
       "      <td>149</td>\n",
       "    </tr>\n",
       "    <tr>\n",
       "      <th>96</th>\n",
       "      <td>163</td>\n",
       "      <td>192</td>\n",
       "    </tr>\n",
       "    <tr>\n",
       "      <th>97</th>\n",
       "      <td>151</td>\n",
       "      <td>162</td>\n",
       "    </tr>\n",
       "    <tr>\n",
       "      <th>98</th>\n",
       "      <td>147</td>\n",
       "      <td>151</td>\n",
       "    </tr>\n",
       "    <tr>\n",
       "      <th>99</th>\n",
       "      <td>129</td>\n",
       "      <td>161</td>\n",
       "    </tr>\n",
       "  </tbody>\n",
       "</table>\n",
       "<p>100 rows × 2 columns</p>\n",
       "</div>"
      ],
      "text/plain": [
       "    SYSTOLIC  WEIGHT\n",
       "0        126     120\n",
       "1        120     145\n",
       "2        128     118\n",
       "3        129     162\n",
       "4        119     106\n",
       "..       ...     ...\n",
       "95       142     149\n",
       "96       163     192\n",
       "97       151     162\n",
       "98       147     151\n",
       "99       129     161\n",
       "\n",
       "[100 rows x 2 columns]"
      ]
     },
     "execution_count": 8,
     "metadata": {},
     "output_type": "execute_result"
    }
   ],
   "source": [
    "# Inspecting the targeted dependent and independent variables\n",
    "df[[\"SYSTOLIC\",\"WEIGHT\"]]"
   ]
  },
  {
   "cell_type": "code",
   "execution_count": 9,
   "metadata": {},
   "outputs": [],
   "source": [
    "x = df[\"WEIGHT\"].values.reshape(-1,1)\n",
    "y = df[\"SYSTOLIC\"].values"
   ]
  },
  {
   "cell_type": "code",
   "execution_count": 10,
   "metadata": {},
   "outputs": [
    {
     "data": {
      "image/png": "[encoded data removed]",
      "text/plain": [
       "<Figure size 600x500 with 1 Axes>"
      ]
     },
     "metadata": {},
     "output_type": "display_data"
    }
   ],
   "source": [
    "# Visualisation of the data \n",
    "plt.figure(figsize = (6,5))\n",
    "plt.scatter(x, y)\n",
    "plt.xlabel('WEIGHT')\n",
    "plt.ylabel('SYSTOLIC')\n",
    "plt.title('WEIGHT and SYSTOLIC')\n",
    "plt.show()"
   ]
  },
  {
   "cell_type": "markdown",
   "metadata": {},
   "source": [
    "Graph explanation:\n",
    "\n",
    "We can infer from the graph a positive and medium relationship between WEIGHT and SYSTOLIC. As WEIGHT increases, there is also an increase in the level of SYSTOLIC. \n",
    "\n",
    "However, the data points get more dispersed as WEIGHT goes up, signifying the increase in variance of the data points is present. The larger the level of WEIGHT, the higher the variance is among the WEIGHT and SYSTOLIC level.\n",
    "\n",
    "We will now build the Polynomial regression model with level spanning from 1 to 14 using Python's built-in packages such as PolynomialFeautres"
   ]
  },
  {
   "cell_type": "code",
   "execution_count": 12,
   "metadata": {},
   "outputs": [],
   "source": [
    "# Perform 10-fold cross validation \n",
    "m_poly_rmse_scores = []\n",
    "for i in range(1,14):    \n",
    "    poly = PolynomialFeatures(degree = i, include_bias = False)\n",
    "    x_poly= poly.fit_transform(x)\n",
    "    scores = cross_val_score(LinearRegression(), x_poly, y, scoring = \"neg_mean_squared_error\", cv = 10)    \n",
    "    poly_rmse_scores = np.sqrt(-scores) #\n",
    "    mean_poly_rmse_scores = poly_rmse_scores.mean() #Computing the mean RMSE\n",
    "    m_poly_rmse_scores.append(mean_poly_rmse_scores)"
   ]
  },
  {
   "cell_type": "code",
   "execution_count": 13,
   "metadata": {},
   "outputs": [
    {
     "data": {
      "text/plain": [
       "Text(0.5, 1.0, 'Cross-validation error plot')"
      ]
     },
     "execution_count": 13,
     "metadata": {},
     "output_type": "execute_result"
    },
    {
     "data": {
      "image/png": "[encoded data removed]",
      "text/plain": [
       "<Figure size 640x480 with 1 Axes>"
      ]
     },
     "metadata": {},
     "output_type": "display_data"
    }
   ],
   "source": [
    "line = [*range(1,14)]\n",
    "plt.scatter(line, m_poly_rmse_scores, c= 'maroon')\n",
    "plt.plot(line, m_poly_rmse_scores, c = 'green')\n",
    "plt.xlabel('Polynomial degrees')\n",
    "plt.ylabel('Mean RMSE')\n",
    "plt.title('Cross-validation error plot')"
   ]
  },
  {
   "cell_type": "code",
   "execution_count": 14,
   "metadata": {},
   "outputs": [
    {
     "name": "stdout",
     "output_type": "stream",
     "text": [
      "Mean RMSE: [10.063566348213604, 10.187166706053542, 10.470321681840364, 10.829963377150463, 10.45133716702582, 10.4018597256369, 10.329004499108617, 10.240305476454346, 10.159177954821084, 10.130294263447153, 10.240212879403142, 10.712133802678924, 12.002013373747856]\n"
     ]
    }
   ],
   "source": [
    "print('Mean RMSE: {}'.format(m_poly_rmse_scores))"
   ]
  },
  {
   "cell_type": "markdown",
   "metadata": {},
   "source": [
    "## Question 3: Model Selection"
   ]
  },
  {
   "cell_type": "markdown",
   "metadata": {},
   "source": [
    "According to the cross validation plot demonstrating the polynomial degrees and the Mean RMSE, it can be observed that the best degree for the polynomial model is 2, since it is the polynomial model that generates the second lowest mean RMSE value with the value at 10.159177926191273. Even though the model at degree 10 is generate the lowest mean RMSE, but the model may be overfit due to selecting large degrees. Furthermore, degree 2 demonstrates that the actual values deviates from the predicted values by a substantially low margin in the tested polynomial degrees. It also indicates that it is the most suitable to predict the result with the lowest error rate."
   ]
  },
  {
   "cell_type": "code",
   "execution_count": 17,
   "metadata": {},
   "outputs": [
    {
     "name": "stdout",
     "output_type": "stream",
     "text": [
      "Polynomial model Coefficient: [0.15125235 0.00037347]\n",
      "Polynomial model Intercept: 98.911250919365\n"
     ]
    }
   ],
   "source": [
    "poly = PolynomialFeatures(degree = 2, include_bias = False)\n",
    "x_poly= poly.fit_transform(x)\n",
    "lin_reg_model = LinearRegression().fit(x_poly,y)\n",
    "print(\"Polynomial model Coefficient: {}\".format(lin_reg_model.coef_)) # Print the coefficient of the model\n",
    "print(\"Polynomial model Intercept: {}\".format(lin_reg_model.intercept_)) # Print the intercept of the model"
   ]
  },
  {
   "cell_type": "markdown",
   "metadata": {},
   "source": [
    "## Question 4: Multiple Linear Regression"
   ]
  },
  {
   "cell_type": "markdown",
   "metadata": {},
   "source": [
    "We can see that all of the features are relevant to build a linear regression model except for ID and NAME, columns that don't provide meaningful data or have any correlation to SYSTOLIC level. We are going to leave those two columns out."
   ]
  },
  {
   "cell_type": "code",
   "execution_count": 20,
   "metadata": {},
   "outputs": [
    {
     "data": {
      "text/html": [
       "<div>\n",
       "<style scoped>\n",
       "    .dataframe tbody tr th:only-of-type {\n",
       "        vertical-align: middle;\n",
       "    }\n",
       "\n",
       "    .dataframe tbody tr th {\n",
       "        vertical-align: top;\n",
       "    }\n",
       "\n",
       "    .dataframe thead th {\n",
       "        text-align: right;\n",
       "    }\n",
       "</style>\n",
       "<table border=\"1\" class=\"dataframe\">\n",
       "  <thead>\n",
       "    <tr style=\"text-align: right;\">\n",
       "      <th></th>\n",
       "      <th>AGE</th>\n",
       "      <th>ED-LEVEL</th>\n",
       "      <th>SMOKING STATUS</th>\n",
       "      <th>EXERCISE</th>\n",
       "      <th>WEIGHT</th>\n",
       "      <th>SERUM-CHOL</th>\n",
       "      <th>IQ</th>\n",
       "      <th>SODIUM</th>\n",
       "      <th>GENDER</th>\n",
       "      <th>MARITAL-STATUS</th>\n",
       "    </tr>\n",
       "  </thead>\n",
       "  <tbody>\n",
       "    <tr>\n",
       "      <th>0</th>\n",
       "      <td>27</td>\n",
       "      <td>2</td>\n",
       "      <td>1</td>\n",
       "      <td>1</td>\n",
       "      <td>120</td>\n",
       "      <td>193</td>\n",
       "      <td>118</td>\n",
       "      <td>136</td>\n",
       "      <td>F</td>\n",
       "      <td>M</td>\n",
       "    </tr>\n",
       "    <tr>\n",
       "      <th>1</th>\n",
       "      <td>18</td>\n",
       "      <td>1</td>\n",
       "      <td>0</td>\n",
       "      <td>1</td>\n",
       "      <td>145</td>\n",
       "      <td>210</td>\n",
       "      <td>105</td>\n",
       "      <td>137</td>\n",
       "      <td>M</td>\n",
       "      <td>S</td>\n",
       "    </tr>\n",
       "    <tr>\n",
       "      <th>2</th>\n",
       "      <td>32</td>\n",
       "      <td>2</td>\n",
       "      <td>0</td>\n",
       "      <td>0</td>\n",
       "      <td>118</td>\n",
       "      <td>196</td>\n",
       "      <td>115</td>\n",
       "      <td>135</td>\n",
       "      <td>F</td>\n",
       "      <td>M</td>\n",
       "    </tr>\n",
       "    <tr>\n",
       "      <th>3</th>\n",
       "      <td>24</td>\n",
       "      <td>2</td>\n",
       "      <td>0</td>\n",
       "      <td>1</td>\n",
       "      <td>162</td>\n",
       "      <td>208</td>\n",
       "      <td>108</td>\n",
       "      <td>142</td>\n",
       "      <td>M</td>\n",
       "      <td>M</td>\n",
       "    </tr>\n",
       "    <tr>\n",
       "      <th>4</th>\n",
       "      <td>19</td>\n",
       "      <td>1</td>\n",
       "      <td>2</td>\n",
       "      <td>0</td>\n",
       "      <td>106</td>\n",
       "      <td>188</td>\n",
       "      <td>106</td>\n",
       "      <td>133</td>\n",
       "      <td>F</td>\n",
       "      <td>S</td>\n",
       "    </tr>\n",
       "    <tr>\n",
       "      <th>...</th>\n",
       "      <td>...</td>\n",
       "      <td>...</td>\n",
       "      <td>...</td>\n",
       "      <td>...</td>\n",
       "      <td>...</td>\n",
       "      <td>...</td>\n",
       "      <td>...</td>\n",
       "      <td>...</td>\n",
       "      <td>...</td>\n",
       "      <td>...</td>\n",
       "    </tr>\n",
       "    <tr>\n",
       "      <th>95</th>\n",
       "      <td>53</td>\n",
       "      <td>0</td>\n",
       "      <td>0</td>\n",
       "      <td>0</td>\n",
       "      <td>149</td>\n",
       "      <td>232</td>\n",
       "      <td>103</td>\n",
       "      <td>141</td>\n",
       "      <td>F</td>\n",
       "      <td>M</td>\n",
       "    </tr>\n",
       "    <tr>\n",
       "      <th>96</th>\n",
       "      <td>63</td>\n",
       "      <td>0</td>\n",
       "      <td>1</td>\n",
       "      <td>0</td>\n",
       "      <td>192</td>\n",
       "      <td>193</td>\n",
       "      <td>95</td>\n",
       "      <td>147</td>\n",
       "      <td>M</td>\n",
       "      <td>M</td>\n",
       "    </tr>\n",
       "    <tr>\n",
       "      <th>97</th>\n",
       "      <td>74</td>\n",
       "      <td>1</td>\n",
       "      <td>0</td>\n",
       "      <td>0</td>\n",
       "      <td>162</td>\n",
       "      <td>247</td>\n",
       "      <td>99</td>\n",
       "      <td>151</td>\n",
       "      <td>F</td>\n",
       "      <td>W</td>\n",
       "    </tr>\n",
       "    <tr>\n",
       "      <th>98</th>\n",
       "      <td>35</td>\n",
       "      <td>2</td>\n",
       "      <td>0</td>\n",
       "      <td>1</td>\n",
       "      <td>151</td>\n",
       "      <td>251</td>\n",
       "      <td>113</td>\n",
       "      <td>145</td>\n",
       "      <td>F</td>\n",
       "      <td>M</td>\n",
       "    </tr>\n",
       "    <tr>\n",
       "      <th>99</th>\n",
       "      <td>28</td>\n",
       "      <td>2</td>\n",
       "      <td>0</td>\n",
       "      <td>3</td>\n",
       "      <td>161</td>\n",
       "      <td>199</td>\n",
       "      <td>116</td>\n",
       "      <td>138</td>\n",
       "      <td>M</td>\n",
       "      <td>M</td>\n",
       "    </tr>\n",
       "  </tbody>\n",
       "</table>\n",
       "<p>100 rows × 10 columns</p>\n",
       "</div>"
      ],
      "text/plain": [
       "    AGE  ED-LEVEL  SMOKING STATUS  EXERCISE  WEIGHT  SERUM-CHOL   IQ  SODIUM  \\\n",
       "0    27         2               1         1     120         193  118     136   \n",
       "1    18         1               0         1     145         210  105     137   \n",
       "2    32         2               0         0     118         196  115     135   \n",
       "3    24         2               0         1     162         208  108     142   \n",
       "4    19         1               2         0     106         188  106     133   \n",
       "..  ...       ...             ...       ...     ...         ...  ...     ...   \n",
       "95   53         0               0         0     149         232  103     141   \n",
       "96   63         0               1         0     192         193   95     147   \n",
       "97   74         1               0         0     162         247   99     151   \n",
       "98   35         2               0         1     151         251  113     145   \n",
       "99   28         2               0         3     161         199  116     138   \n",
       "\n",
       "   GENDER MARITAL-STATUS  \n",
       "0       F              M  \n",
       "1       M              S  \n",
       "2       F              M  \n",
       "3       M              M  \n",
       "4       F              S  \n",
       "..    ...            ...  \n",
       "95      F              M  \n",
       "96      M              M  \n",
       "97      F              W  \n",
       "98      F              M  \n",
       "99      M              M  \n",
       "\n",
       "[100 rows x 10 columns]"
      ]
     },
     "execution_count": 20,
     "metadata": {},
     "output_type": "execute_result"
    }
   ],
   "source": [
    "x = df[['AGE','ED-LEVEL','SMOKING STATUS','EXERCISE','WEIGHT','SERUM-CHOL','IQ','SODIUM','GENDER','MARITAL-STATUS']]\n",
    "x"
   ]
  },
  {
   "cell_type": "code",
   "execution_count": 21,
   "metadata": {},
   "outputs": [
    {
     "name": "stderr",
     "output_type": "stream",
     "text": [
      "/var/folders/px/rpgbb1vs07g7l4_2lymxg5qc0000gn/T/ipykernel_2845/2712510612.py:1: FutureWarning: Downcasting behavior in `replace` is deprecated and will be removed in a future version. To retain the old behavior, explicitly call `result.infer_objects(copy=False)`. To opt-in to the future behavior, set `pd.set_option('future.no_silent_downcasting', True)`\n",
      "  x['GENDER'] = x['GENDER'].replace(['M','F'],[1,2])\n",
      "/var/folders/px/rpgbb1vs07g7l4_2lymxg5qc0000gn/T/ipykernel_2845/2712510612.py:1: SettingWithCopyWarning: \n",
      "A value is trying to be set on a copy of a slice from a DataFrame.\n",
      "Try using .loc[row_indexer,col_indexer] = value instead\n",
      "\n",
      "See the caveats in the documentation: https://pandas.pydata.org/pandas-docs/stable/user_guide/indexing.html#returning-a-view-versus-a-copy\n",
      "  x['GENDER'] = x['GENDER'].replace(['M','F'],[1,2])\n",
      "/var/folders/px/rpgbb1vs07g7l4_2lymxg5qc0000gn/T/ipykernel_2845/2712510612.py:2: FutureWarning: Downcasting behavior in `replace` is deprecated and will be removed in a future version. To retain the old behavior, explicitly call `result.infer_objects(copy=False)`. To opt-in to the future behavior, set `pd.set_option('future.no_silent_downcasting', True)`\n",
      "  x['MARITAL-STATUS'] = x['MARITAL-STATUS'].replace(['D','M','S','W'],[1,2,3,4])\n",
      "/var/folders/px/rpgbb1vs07g7l4_2lymxg5qc0000gn/T/ipykernel_2845/2712510612.py:2: SettingWithCopyWarning: \n",
      "A value is trying to be set on a copy of a slice from a DataFrame.\n",
      "Try using .loc[row_indexer,col_indexer] = value instead\n",
      "\n",
      "See the caveats in the documentation: https://pandas.pydata.org/pandas-docs/stable/user_guide/indexing.html#returning-a-view-versus-a-copy\n",
      "  x['MARITAL-STATUS'] = x['MARITAL-STATUS'].replace(['D','M','S','W'],[1,2,3,4])\n"
     ]
    }
   ],
   "source": [
    "x['GENDER'] = x['GENDER'].replace(['M','F'],[1,2])\n",
    "x['MARITAL-STATUS'] = x['MARITAL-STATUS'].replace(['D','M','S','W'],[1,2,3,4])\n",
    "x = x.values\n",
    "y = df[['SYSTOLIC']].values"
   ]
  },
  {
   "cell_type": "code",
   "execution_count": 22,
   "metadata": {},
   "outputs": [
    {
     "data": {
      "text/plain": [
       "array([[ 27,   2,   1,   1, 120, 193, 118, 136,   2,   2],\n",
       "       [ 18,   1,   0,   1, 145, 210, 105, 137,   1,   3],\n",
       "       [ 32,   2,   0,   0, 118, 196, 115, 135,   2,   2],\n",
       "       [ 24,   2,   0,   1, 162, 208, 108, 142,   1,   2],\n",
       "       [ 19,   1,   2,   0, 106, 188, 106, 133,   2,   3],\n",
       "       [ 56,   1,   0,   0, 143, 206, 111, 138,   2,   4],\n",
       "       [ 65,   1,   2,   0, 160, 240,  99, 140,   1,   4],\n",
       "       [ 36,   2,   1,   0, 215, 215, 106, 151,   1,   1],\n",
       "       [ 43,   1,   0,   1, 127, 201, 111, 134,   2,   2],\n",
       "       [ 47,   1,   1,   1, 132, 215, 109, 135,   2,   1],\n",
       "       [ 48,   3,   1,   2, 196, 199, 115, 146,   1,   1],\n",
       "       [ 25,   2,   2,   3, 109, 210, 114, 141,   2,   3],\n",
       "       [ 63,   0,   1,   0, 170, 242, 101, 152,   2,   1],\n",
       "       [ 37,   2,   0,   3, 187, 193, 109, 144,   1,   2],\n",
       "       [ 40,   0,   1,   1, 234, 208,  98, 147,   1,   2],\n",
       "       [ 25,   1,   2,   1, 199, 253, 103, 148,   1,   3],\n",
       "       [ 72,   0,   0,   0, 143, 288, 103, 145,   2,   2],\n",
       "       [ 56,   1,   1,   0, 156, 164,  99, 144,   2,   1],\n",
       "       [ 37,   2,   0,   2, 142, 214, 110, 135,   1,   2],\n",
       "       [ 41,   1,   1,   1, 123, 220, 108, 134,   2,   2],\n",
       "       [ 33,   2,   1,   1, 165, 194, 112, 137,   1,   3],\n",
       "       [ 52,   1,   0,   1, 157, 205, 106, 134,   1,   1],\n",
       "       [ 44,   2,   0,   1, 121, 233, 166, 133,   2,   2],\n",
       "       [ 53,   1,   0,   0, 131, 199, 121, 136,   2,   2],\n",
       "       [ 19,   1,   0,   3, 128, 206, 122, 132,   1,   3],\n",
       "       [ 25,   1,   0,   0, 143, 200, 103, 135,   1,   2],\n",
       "       [ 31,   2,   1,   1, 152, 204, 119, 136,   1,   2],\n",
       "       [ 28,   2,   0,   0, 119, 203, 116, 138,   2,   2],\n",
       "       [ 23,   1,   0,   0, 111, 240, 105, 135,   2,   3],\n",
       "       [ 47,   2,   1,   0, 149, 199, 123, 136,   2,   2],\n",
       "       [ 47,   2,   1,   0, 179, 235, 113, 139,   1,   2],\n",
       "       [ 59,   1,   2,   0, 206, 260,  99, 143,   1,   4],\n",
       "       [ 36,   2,   1,   0, 191, 201, 118, 145,   1,   1],\n",
       "       [ 59,   0,   1,   1, 156, 235, 100, 132,   2,   4],\n",
       "       [ 35,   1,   0,   0, 122, 232, 106, 135,   2,   2],\n",
       "       [ 29,   2,   0,   2, 175, 195, 121, 148,   1,   2],\n",
       "       [ 44,   1,   2,   0, 132, 240, 109, 132,   2,   3],\n",
       "       [ 44,   1,   2,   0, 132, 240, 109, 132,   2,   3],\n",
       "       [ 63,   2,   2,   1, 188, 255, 121, 145,   1,   2],\n",
       "       [ 36,   2,   1,   1, 125, 220, 117, 140,   2,   3],\n",
       "       [ 21,   1,   0,   1, 109, 206, 102, 136,   2,   2],\n",
       "       [ 31,   2,   0,   2, 112, 201, 123, 133,   2,   2],\n",
       "       [ 57,   1,   1,   1, 167, 213, 103, 143,   1,   4],\n",
       "       [ 20,   1,   2,   3, 101, 194, 111, 125,   2,   3],\n",
       "       [ 24,   2,   1,   3, 106, 188, 114, 127,   2,   1],\n",
       "       [ 42,   1,   0,   1, 148, 206, 107, 140,   1,   3],\n",
       "       [ 55,   1,   0,   0, 170, 257, 106, 130,   2,   2],\n",
       "       [ 23,   0,   0,   1, 152, 204,  95, 142,   1,   2],\n",
       "       [ 32,   2,   0,   0, 191, 210, 115, 147,   1,   2],\n",
       "       [ 28,   1,   0,   1, 148, 222, 100, 135,   1,   2],\n",
       "       [ 67,   0,   0,   0, 160, 250, 116, 146,   2,   4],\n",
       "       [ 22,   1,   1,   1, 109, 220, 103, 144,   2,   2],\n",
       "       [ 19,   1,   1,   1, 131, 231, 112, 133,   1,   3],\n",
       "       [ 25,   2,   0,   2, 153, 212, 119, 149,   1,   1],\n",
       "       [ 41,   3,   2,   2, 165, 236, 131, 152,   1,   2],\n",
       "       [ 24,   2,   0,   3, 112, 205, 100, 132,   2,   3],\n",
       "       [ 32,   2,   0,   1, 115, 187, 109, 136,   2,   3],\n",
       "       [ 50,   3,   0,   1, 173, 203, 126, 146,   1,   2],\n",
       "       [ 32,   2,   1,   0, 186, 248, 122, 149,   1,   2],\n",
       "       [ 26,   2,   0,   1, 181, 207, 121, 142,   1,   3],\n",
       "       [ 36,   1,   1,   0, 112, 188,  98, 135,   2,   1],\n",
       "       [ 40,   1,   1,   0, 130, 201, 105, 136,   2,   1],\n",
       "       [ 19,   1,   1,   1, 132, 237, 111, 137,   1,   3],\n",
       "       [ 37,   2,   0,   2, 179, 228, 127, 141,   2,   2],\n",
       "       [ 65,   3,   2,   1, 212, 220, 129, 148,   1,   2],\n",
       "       [ 21,   1,   2,   2,  99, 191, 103, 131,   2,   3],\n",
       "       [ 25,   2,   2,   1, 128, 195, 121, 131,   2,   3],\n",
       "       [ 68,   0,   0,   0, 167, 210,  98, 140,   1,   4],\n",
       "       [ 18,   1,   1,   2, 121, 198, 113, 136,   2,   3],\n",
       "       [ 26,   0,   1,   1, 163, 235,  99, 140,   1,   2],\n",
       "       [ 45,   1,   1,   1, 185, 229, 101, 143,   1,   2],\n",
       "       [ 44,   3,   0,   0, 130, 215, 128, 137,   2,   2],\n",
       "       [ 50,   1,   0,   0, 142, 232, 104, 138,   2,   2],\n",
       "       [ 63,   0,   0,   0, 166, 271, 103, 147,   2,   4],\n",
       "       [ 48,   1,   0,   3, 163, 203, 103, 144,   1,   2],\n",
       "       [ 27,   2,   0,   3, 147, 186, 114, 134,   1,   2],\n",
       "       [ 31,   3,   1,   1, 152, 228, 126, 138,   1,   1],\n",
       "       [ 28,   2,   0,   2, 112, 197, 123, 133,   2,   2],\n",
       "       [ 36,   2,   1,   2, 190, 226, 121, 147,   1,   2],\n",
       "       [ 43,   3,   2,   0, 179, 252, 131, 145,   1,   1],\n",
       "       [ 21,   1,   0,   1, 117, 185, 105, 137,   2,   3],\n",
       "       [ 32,   2,   1,   0, 125, 193, 119, 135,   2,   2],\n",
       "       [ 29,   2,   1,   0, 123, 192, 116, 131,   2,   1],\n",
       "       [ 49,   2,   2,   1, 185, 190, 127, 144,   1,   2],\n",
       "       [ 24,   1,   1,   1, 133, 237, 114, 129,   1,   2],\n",
       "       [ 36,   2,   0,   2, 163, 195, 119, 139,   1,   2],\n",
       "       [ 34,   1,   2,   0, 135, 199, 117, 135,   2,   2],\n",
       "       [ 36,   0,   0,   1, 142, 216,  88, 137,   2,   2],\n",
       "       [ 29,   1,   1,   1, 155, 214,  98, 135,   1,   3],\n",
       "       [ 42,   0,   0,   2, 169, 201,  96, 137,   1,   1],\n",
       "       [ 41,   1,   1,   1, 136, 214, 102, 141,   2,   1],\n",
       "       [ 29,   1,   1,   0, 112, 205, 102, 130,   2,   2],\n",
       "       [ 43,   1,   1,   0, 185, 208, 100, 143,   1,   2],\n",
       "       [ 61,   1,   2,   0, 173, 248, 101, 141,   1,   2],\n",
       "       [ 21,   1,   1,   3, 106, 210, 105, 131,   2,   3],\n",
       "       [ 53,   0,   0,   0, 149, 232, 103, 141,   2,   2],\n",
       "       [ 63,   0,   1,   0, 192, 193,  95, 147,   1,   2],\n",
       "       [ 74,   1,   0,   0, 162, 247,  99, 151,   2,   4],\n",
       "       [ 35,   2,   0,   1, 151, 251, 113, 145,   2,   2],\n",
       "       [ 28,   2,   0,   3, 161, 199, 116, 138,   1,   2]])"
      ]
     },
     "execution_count": 22,
     "metadata": {},
     "output_type": "execute_result"
    }
   ],
   "source": [
    "x"
   ]
  },
  {
   "cell_type": "markdown",
   "metadata": {},
   "source": [
    "Now that the data pre-processing steps have been done, we will build a Multiple Linear Regression"
   ]
  },
  {
   "cell_type": "code",
   "execution_count": 24,
   "metadata": {},
   "outputs": [
    {
     "name": "stdout",
     "output_type": "stream",
     "text": [
      "Multi-linear model Coefficient: [[ 0.33056784 -0.87090274 -0.08753526 -0.07509179  0.30396451  0.01745461\n",
      "  -0.04049222  0.06966721 10.95029683 -1.09102542]]\n",
      "Multi-linear model Intercept: [50.3590063]\n"
     ]
    }
   ],
   "source": [
    "lin_model = LinearRegression().fit(x, y)\n",
    "print('Multi-linear model Coefficient: {}'.format(lin_model.coef_))\n",
    "print('Multi-linear model Intercept: {}'.format(lin_model.intercept_))"
   ]
  },
  {
   "cell_type": "markdown",
   "metadata": {},
   "source": [
    "**Perform 10 fold cross validation on the multiple linear regression**"
   ]
  },
  {
   "cell_type": "code",
   "execution_count": 26,
   "metadata": {},
   "outputs": [
    {
     "name": "stdout",
     "output_type": "stream",
     "text": [
      "RMSE: [8.32114789 7.55446484 8.58877345 5.94879844 7.51700528 7.26700244\n",
      " 6.06383438 8.86175363 7.84214218 7.57693122]\n",
      "Mean RMSE: 7.55418537659728\n"
     ]
    }
   ],
   "source": [
    "# 10 fold Cross validation\n",
    "from sklearn.model_selection import cross_val_score\n",
    "from sklearn.linear_model import LinearRegression\n",
    "multi_lin_scores = cross_val_score(LinearRegression(),x,y, scoring = \"neg_mean_squared_error\", cv = 10)\n",
    "multi_lin_rmse_scores = np.sqrt(-multi_lin_scores) \n",
    "mean_multi_lin_rmse_scores = np.mean(multi_lin_rmse_scores)\n",
    "print(\"RMSE: {}\".format(multi_lin_rmse_scores))\n",
    "print('Mean RMSE: {}'.format(mean_multi_lin_rmse_scores))\n"
   ]
  },
  {
   "cell_type": "markdown",
   "metadata": {},
   "source": [
    "## Question 5"
   ]
  },
  {
   "cell_type": "markdown",
   "metadata": {},
   "source": [
    "Build a ridge regression model of the above (i.e. item 4) using α = 0.1. Print its coefficients. \n",
    "Perform 10-fold cross validation. \n",
    "Calculate its square roots of the mean square errors (RMSE), and the mean RMSE, and display the mean RMSE.\n"
   ]
  },
  {
   "cell_type": "code",
   "execution_count": 29,
   "metadata": {},
   "outputs": [],
   "source": [
    "from sklearn.linear_model import Ridge"
   ]
  },
  {
   "cell_type": "code",
   "execution_count": 30,
   "metadata": {},
   "outputs": [
    {
     "name": "stdout",
     "output_type": "stream",
     "text": [
      "Ridge Model Coefficient: [[ 0.33183712 -0.87329823 -0.08645678 -0.08344129  0.30214144  0.01745305\n",
      "  -0.04027576  0.07087436 10.83667682 -1.09241833]]\n",
      "Ridge Model Intercept: [50.57634328]\n"
     ]
    }
   ],
   "source": [
    "ridge_model = Ridge(alpha = 0.1)\n",
    "ridge_model = ridge_model.fit(x,y)\n",
    "print(\"Ridge Model Coefficient: {}\".format(ridge_model.coef_))\n",
    "print(\"Ridge Model Intercept: {}\".format(ridge_model.intercept_))"
   ]
  },
  {
   "cell_type": "markdown",
   "metadata": {},
   "source": [
    "**Build a 10 fold cross validation with Ridge Model**"
   ]
  },
  {
   "cell_type": "code",
   "execution_count": 32,
   "metadata": {},
   "outputs": [
    {
     "name": "stdout",
     "output_type": "stream",
     "text": [
      "RMSE: [8.3382567  7.56784831 8.58048433 5.94191182 7.48934397 7.26350031\n",
      " 6.05626059 8.86595721 7.85123569 7.57849498]\n",
      "Mean RMSE: 7.5533293928264245\n"
     ]
    }
   ],
   "source": [
    "ridge_cross_val = cross_val_score(ridge_model,x,y,scoring = 'neg_mean_squared_error', cv=10)\n",
    "ridge_rmse_scores = np.sqrt(-ridge_cross_val)\n",
    "mean_ridge_rmse_scores = np.mean(ridge_rmse_scores)\n",
    "print(\"RMSE: {}\".format(ridge_rmse_scores))\n",
    "print(\"Mean RMSE: {}\".format(mean_ridge_rmse_scores))"
   ]
  },
  {
   "cell_type": "markdown",
   "metadata": {},
   "source": [
    "## Question 6"
   ]
  },
  {
   "cell_type": "markdown",
   "metadata": {},
   "source": [
    "Select the best model of the three, and explains why briefly"
   ]
  },
  {
   "cell_type": "markdown",
   "metadata": {},
   "source": [
    "We have the summary of the mean RMSE of different models below:\n",
    "\n",
    "- Polynomial Regression Model: 10.187166706053542\n",
    "- Multiple Linear Regression Model: 7.554185376597282\n",
    "- Ridge Regression Model: 7.553329392826422\n",
    "\n",
    "It can be seen that the best model is the Ridge regression Model with alpha 0.1 for the lowest mean Root Mean Squared Error value among all three models. This also indicatess that its predicted values deviate by an unsubstantial margin away from the actual values, which allows the model to make target value prediction with much higher reliability and accuracy than other models.\n",
    "\n"
   ]
  },
  {
   "cell_type": "markdown",
   "metadata": {},
   "source": [
    "# Task 2"
   ]
  },
  {
   "cell_type": "markdown",
   "metadata": {},
   "source": [
    "## MNIST Digit Classification using PCA and Logistic Regression"
   ]
  },
  {
   "cell_type": "markdown",
   "metadata": {},
   "source": [
    "- Load the renowned MNIST (’mnist 784’) dataset, which consists of a large collection of handwritten digit images. Your task is to reduce the number of features first, and then build a binary classification model to **distinguish between the digit “7” and all other digits (not “7”)**.\n",
    "\n",
    "- Perform Principal Component Analysis (PCA) on the feature data to reduce its dimensionality while **retaining 90% of the overall explained variance**.\n",
    "\n",
    "- Split the data into training and testing sets, using a common split ratio of **80% for training and 20% for testing**.\n",
    "\n",
    "- Create a **Logistic Regression model** using the reduced feature dataset. Use this model to **predict the labels for both the training and testing dataset**. \n",
    "\n",
    "- Print the **number of principal components preserved**. Print the prediction accuracy (proportion of correct predictions) of your model on the training set. Also, print the prediction accuracy, the confusion matrix, and the misclassified digits (i.e. wrong predicitons) of your model on the testing set.\n",
    "\n",
    "- **Evaluate the model**: What do you think of the model generated (good, underfitting, overfitting)? Briefly explain your reasoning."
   ]
  },
  {
   "cell_type": "markdown",
   "metadata": {},
   "source": [
    "## Question 1:"
   ]
  },
  {
   "cell_type": "markdown",
   "metadata": {},
   "source": [
    "First, we will load all the libraries and packages that will help us complete the following tasks:\n",
    "- MNIST dataset\n",
    "- Principal Component Analysis\n",
    "- Divide the dataset into training and testing sets\n",
    "- Build a Logistic Regression Model\n",
    "- Confusion Matrix"
   ]
  },
  {
   "cell_type": "code",
   "execution_count": 41,
   "metadata": {},
   "outputs": [],
   "source": [
    "from sklearn.datasets import fetch_openml\n",
    "from sklearn.decomposition import PCA\n",
    "from sklearn.model_selection import train_test_split\n",
    "from sklearn.linear_model import LogisticRegression\n",
    "from sklearn.metrics import accuracy_score\n",
    "from sklearn.metrics import confusion_matrix\n"
   ]
  },
  {
   "cell_type": "code",
   "execution_count": 42,
   "metadata": {
    "scrolled": true
   },
   "outputs": [],
   "source": [
    "# Loading the MNIST dataset\n",
    "mnist = fetch_openml('mnist_784', version = 1, as_frame = False)\n"
   ]
  },
  {
   "cell_type": "code",
   "execution_count": 43,
   "metadata": {},
   "outputs": [],
   "source": [
    "mnist.target = mnist.target.astype(np.uint8)"
   ]
  },
  {
   "cell_type": "code",
   "execution_count": 44,
   "metadata": {},
   "outputs": [],
   "source": [
    "x_7 = mnist['data'] #\n",
    "y_7 = mnist['target']"
   ]
  },
  {
   "cell_type": "markdown",
   "metadata": {},
   "source": [
    "## Question 2"
   ]
  },
  {
   "cell_type": "markdown",
   "metadata": {},
   "source": [
    "The objective is to fit the MNIST data to the PCA to find the ultimate number of dimension that can satisfy our requirement of preserving 90% of the variance in the data."
   ]
  },
  {
   "cell_type": "code",
   "execution_count": 47,
   "metadata": {},
   "outputs": [],
   "source": [
    "pca = PCA()\n",
    "pca = pca.fit(x_7)\n"
   ]
  },
  {
   "cell_type": "code",
   "execution_count": 48,
   "metadata": {},
   "outputs": [],
   "source": [
    "# Find the number of dimension that retian 90% of the overall explained variance\n",
    "variance = np.cumsum(pca.explained_variance_ratio_)\n",
    "num_dimension = np.argmax(variance >= 0.9) + 1 #Plus 1 because the np.argmax return the index\n",
    "\n",
    "# Fit the new PCA to obtain x_reduced in lower dimension\n",
    "pca = PCA(n_components = num_dimension)\n",
    "x_reduced = pca.fit_transform(x_7)"
   ]
  },
  {
   "cell_type": "code",
   "execution_count": 49,
   "metadata": {},
   "outputs": [
    {
     "name": "stdout",
     "output_type": "stream",
     "text": [
      "(70000, 784)\n",
      "(70000, 87)\n",
      "Number of principal components preserved: 87\n"
     ]
    }
   ],
   "source": [
    "print(x_7.shape)\n",
    "print(x_reduced.shape) #reduced in number of dimensions/features, from 784 to 74\n",
    "print('Number of principal components preserved: {}'.format(num_dimension))"
   ]
  },
  {
   "cell_type": "markdown",
   "metadata": {},
   "source": [
    "It can be seen that the number of reduced dimension that can retain 90% of the explained variance is 87, meaning that the PCA was able to reduce a significant amount of dimension (from 784 to 87) but still able to preserve data's explainability. "
   ]
  },
  {
   "cell_type": "markdown",
   "metadata": {},
   "source": [
    "## Question 3"
   ]
  },
  {
   "cell_type": "markdown",
   "metadata": {},
   "source": [
    "# Dividing the reduced data\n",
    "x_train, x_test, y_train, y_test = train_test_split(x_reduced, y_7, test_size=0.2, random_state=42)"
   ]
  },
  {
   "cell_type": "markdown",
   "metadata": {},
   "source": [
    "## Question 4"
   ]
  },
  {
   "cell_type": "code",
   "execution_count": 54,
   "metadata": {},
   "outputs": [
    {
     "ename": "NameError",
     "evalue": "name 'y_train' is not defined",
     "output_type": "error",
     "traceback": [
      "\u001b[0;31m---------------------------------------------------------------------------\u001b[0m",
      "\u001b[0;31mNameError\u001b[0m                                 Traceback (most recent call last)",
      "Cell \u001b[0;32mIn[54], line 2\u001b[0m\n\u001b[1;32m      1\u001b[0m \u001b[38;5;66;03m# Create new variables that will only predict number 7\u001b[39;00m\n\u001b[0;32m----> 2\u001b[0m y_train1 \u001b[38;5;241m=\u001b[39m y_train \u001b[38;5;241m==\u001b[39m \u001b[38;5;241m7\u001b[39m\n\u001b[1;32m      3\u001b[0m y_test1 \u001b[38;5;241m=\u001b[39m y_test \u001b[38;5;241m==\u001b[39m \u001b[38;5;241m7\u001b[39m\n",
      "\u001b[0;31mNameError\u001b[0m: name 'y_train' is not defined"
     ]
    }
   ],
   "source": [
    "# Create new variables that will only predict number 7\n",
    "y_train1 = y_train == 7\n",
    "y_test1 = y_test == 7"
   ]
  },
  {
   "cell_type": "code",
   "execution_count": null,
   "metadata": {},
   "outputs": [],
   "source": [
    "log_reg = LogisticRegression()\n",
    "log_reg = log_reg.fit(x_train, y_train1) # fit the training set into the Logistic Regression model"
   ]
  },
  {
   "cell_type": "markdown",
   "metadata": {},
   "source": [
    "## Question 5"
   ]
  },
  {
   "cell_type": "markdown",
   "metadata": {},
   "source": [
    "**Predict the language for the training set and testing set**"
   ]
  },
  {
   "cell_type": "code",
   "execution_count": null,
   "metadata": {},
   "outputs": [],
   "source": [
    "y_train_pred = log_reg.predict(x_train)\n",
    "y_test_pred = log_reg.predict(x_test)"
   ]
  },
  {
   "cell_type": "markdown",
   "metadata": {},
   "source": [
    "## Question 6"
   ]
  },
  {
   "cell_type": "markdown",
   "metadata": {},
   "source": [
    "Print the number of principal components preserved. Print the prediction accuracy (proportion of correct predictions) of your model on the training set. Print the prediction accuracy, the confusion matrix, and the misclassified digits (i.e. wrn g predtiitons) of your model on the testing set."
   ]
  },
  {
   "cell_type": "markdown",
   "metadata": {},
   "source": [
    "**Number of Principal Components preserved**"
   ]
  },
  {
   "cell_type": "code",
   "execution_count": null,
   "metadata": {},
   "outputs": [],
   "source": [
    "print('Number of principal components preserved: {}'.format(num_dimension)) "
   ]
  },
  {
   "cell_type": "markdown",
   "metadata": {},
   "source": [
    "**Prediction accuracy**"
   ]
  },
  {
   "cell_type": "code",
   "execution_count": null,
   "metadata": {},
   "outputs": [],
   "source": [
    "# Accuracy of prediction conducted on the training set\n",
    "accuracy_train = accuracy_score(y_train1, y_train_pred)\n",
    "print(\"Accuracy: {}\".format(accuracy_train*100), \"%\") "
   ]
  },
  {
   "cell_type": "code",
   "execution_count": null,
   "metadata": {},
   "outputs": [],
   "source": [
    "# Accuracy of prediction conducted on the testing set\n",
    "accuracy_test = accuracy_score(y_test1, y_test_pred)\n",
    "print(\"Accuracy: {}\".format(accuracy_test*100), \"%\") "
   ]
  },
  {
   "cell_type": "markdown",
   "metadata": {},
   "source": [
    "**Confusion Matrix**"
   ]
  },
  {
   "cell_type": "code",
   "execution_count": null,
   "metadata": {},
   "outputs": [],
   "source": [
    "# Confusion matrix on the training set\n",
    "confusion_matrix(y_train1, y_train_pred)"
   ]
  },
  {
   "cell_type": "markdown",
   "metadata": {},
   "source": [
    "The confusion matrix on the training set shows that:\n",
    "- 314 values being misclassified as number 7 while they are not.\n",
    "- 547 values being misclassified as not number 7 while they are 7 (Type I error).\n",
    "- 49896 values being correctly classified as number 7 while they are truly 7.\n",
    "- 5243 values being correctly classified as not number 7."
   ]
  },
  {
   "cell_type": "code",
   "execution_count": null,
   "metadata": {},
   "outputs": [],
   "source": [
    "# Confusion matrix on the testing set\n",
    "confusion_matrix(y_test1, y_test_pred)"
   ]
  },
  {
   "cell_type": "markdown",
   "metadata": {},
   "source": [
    "The confusion matrix on the training set shows that:\n",
    "- 86 values being misclassified as number 7 while they are not.\n",
    "- 131 values being misclassified as not number 7 while they are 7 (Type I error).\n",
    "- 12411 values being correctly classified as number 7 while they are truly 7.\n",
    "- 1372 values being correctly classified as not number 7."
   ]
  },
  {
   "cell_type": "markdown",
   "metadata": {},
   "source": [
    "**Misclassified digits**"
   ]
  },
  {
   "cell_type": "code",
   "execution_count": null,
   "metadata": {},
   "outputs": [],
   "source": [
    "misclass = np.where(y_test1 != y_test_pred)[0]\n",
    "y_test[misclass]"
   ]
  },
  {
   "cell_type": "markdown",
   "metadata": {},
   "source": [
    "## Question 7"
   ]
  },
  {
   "cell_type": "markdown",
   "metadata": {},
   "source": [
    "Evaluate the model: What do you think of the model generated (good, underfitting, overfitting)? Briefly explain your reasoning"
   ]
  },
  {
   "cell_type": "markdown",
   "metadata": {},
   "source": [
    "According to the result above, it is safe to say that the model performs very well when it comes to predicting the number with accuracy sitting around 98.46% for the training set and 98.45% for the testing set good. With such impressive accuracy, the model can be used for predicting tasks with high precision confidence. In addition, we have used PCA to reduce the number of dimensions, and it was able to retrain 90% of the explained variance, ensuring the model is reduced to a rather adequate complexity level and it is not overfitted."
   ]
  }
 ],
 "metadata": {
  "kernelspec": {
   "display_name": "Python 3 (ipykernel)",
   "language": "python",
   "name": "python3"
  },
  "language_info": {
   "codemirror_mode": {
    "name": "ipython",
    "version": 3
   },
   "file_extension": ".py",
   "mimetype": "text/x-python",
   "name": "python",
   "nbconvert_exporter": "python",
   "pygments_lexer": "ipython3",
   "version": "3.12.4"
  }
 },
 "nbformat": 4,
 "nbformat_minor": 4
}
